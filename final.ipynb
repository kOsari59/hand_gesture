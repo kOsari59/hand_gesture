{
 "cells": [
  {
   "cell_type": "markdown",
   "metadata": {},
   "source": [
    "# 1. 필요한 모듈들을 임포트"
   ]
  },
  {
   "cell_type": "code",
   "execution_count": 5,
   "metadata": {},
   "outputs": [],
   "source": [
    "from PIL import Image\n",
    "import os, glob, numpy as np\n",
    "from sklearn.model_selection import train_test_split\n",
    "import cv2\n",
    "from tensorflow import keras\n",
    "import tensorflow as tf\n",
    "from tensorflow.keras.preprocessing.image import ImageDataGenerator\n",
    "from keras.models import save_model,load_model\n",
    "from keras.layers import Conv2D, MaxPooling2D, Dense, Flatten, Dropout, Input ,GlobalAveragePooling2D\n",
    "from keras.callbacks import EarlyStopping, ModelCheckpoint\n",
    "import matplotlib.pyplot as plt\n",
    "from tensorflow.keras import layers\n",
    "from tensorflow.keras.preprocessing import image\n",
    "from tensorflow.keras.models import Model\n",
    "from tensorflow.keras.applications.vgg16 import VGG16, preprocess_input\n",
    "import math\n",
    "from functools import partial"
   ]
  },
  {
   "cell_type": "markdown",
   "metadata": {},
   "source": [
    "# 2. 데이터 블러오기"
   ]
  },
  {
   "cell_type": "code",
   "execution_count": 6,
   "metadata": {},
   "outputs": [
    {
     "name": "stdout",
     "output_type": "stream",
     "text": [
      "O  파일 길이 :  805\n",
      "V  파일 길이 :  624\n",
      "paper  파일 길이 :  805\n",
      "rock  파일 길이 :  621\n",
      "side  파일 길이 :  805\n",
      "ok 3660\n"
     ]
    },
    {
     "name": "stderr",
     "output_type": "stream",
     "text": [
      "c:\\Users\\kmc59\\AppData\\Local\\Programs\\Python\\Python310\\lib\\site-packages\\numpy\\lib\\npyio.py:501: VisibleDeprecationWarning: Creating an ndarray from ragged nested sequences (which is a list-or-tuple of lists-or-tuples-or ndarrays with different lengths or shapes) is deprecated. If you meant to do this, you must specify 'dtype=object' when creating the ndarray.\n",
      "  arr = np.asanyarray(arr)\n"
     ]
    }
   ],
   "source": [
    "caltech_dir = \"./HandGesture\\images\" #학습데이터\n",
    "categories = [\"O\", \"V\", \"paper\", \"rock\",\"side\"] #카테고리 나누기\n",
    "nb_classes = len(categories)#카테고리 길이 결정\n",
    "image_w = 64\n",
    "image_h = 64\n",
    "pixels = image_h * image_w * 3 #픽셀은 64*64에 3층\n",
    "X = []\n",
    "y = []\n",
    "#카테고리 수만큼 전처리 원핫 인코딩\n",
    "for idx, cat in enumerate(categories): \n",
    "    \n",
    "    #one-hot 돌리기.\n",
    "    label = [0 for i in range(nb_classes)]\n",
    "    label[idx] = 1\n",
    "    image_dir = caltech_dir + \"/\" + cat #cat의 폴더 열기\n",
    "    files = glob.glob(image_dir+\"/*.jpg\") #cat에 있는 jpg로 끝나는 파일 읽어오기\n",
    "    print(cat, \" 파일 길이 : \", len(files))#전체 파일 수 i 파일 수 f는 파일 이름\n",
    "    for i, f in enumerate(files):#파일 수만큼 반복\n",
    "        img = cv2.imread(f)#이미지 열기 cv2로 열기\n",
    "        #손 색상 변경\n",
    "        ycrb = cv2.cvtColor(img,cv2.COLOR_BGR2YCrCb) #cv2의 색상을 RGB가 아닌 YCrCb로 변경\n",
    "        img = cv2.inRange(ycrb,np.array([0,133,77]),np.array([255,173,127]))  #해당 색(사람 피부색)에 관련된 색을 구분\n",
    "        img = Image.fromarray(img) #cv2의 이미지를 PIL형식의 이미지로 변경\n",
    "        img = img.convert(\"RGB\")#흑백\n",
    "        img = img.resize((image_w, image_h))#사이즈 변경\n",
    "        data = np.asarray(img)#np.array로 변경\n",
    "        X.append(data) #x에 데이터 \n",
    "        y.append(label) #y에 출력 설정\n",
    "\n",
    "X = np.array(X) # 데이터 전부 모아서 배열 성정\n",
    "y = np.array(y)\n",
    "\n",
    "#학습집합 나누어 주기\n",
    "\n",
    "#X_train y_train 최종학습 집합\n",
    "#X_train_f y_train_f 학습 집합\n",
    "#x_test y_test 테스트 집합\n",
    "#X_vailed y_vailed 검증 집합\n",
    "X_train, X_test, y_train, y_test = train_test_split(X, y) \n",
    "X_train_f, X_vailed, y_train_f, y_vailed = train_test_split(X_train,y_train)\n",
    "xy = (X_train, X_test, y_train, y_test,X_train_f, X_vailed, y_train_f, y_vailed)\n",
    "\n",
    "\n",
    "np.save(\"./HandGesture/multi_image_data.npy\", xy) #넘파이 배열을 저장해 버림\n",
    "print(\"ok\", len(y))"
   ]
  },
  {
   "cell_type": "markdown",
   "metadata": {},
   "source": [
    "# 3. 이미지 증식"
   ]
  },
  {
   "cell_type": "code",
   "execution_count": 7,
   "metadata": {},
   "outputs": [],
   "source": [
    "# 데이터 증식 옵션\n",
    "train_datagen = ImageDataGenerator(rescale = 1/255,rotation_range=30,width_shift_range=0.1,height_shift_range=0.1,shear_range=0.5,zoom_range=0.3,horizontal_flip=True,vertical_flip=True,validation_split=0.2)"
   ]
  },
  {
   "cell_type": "code",
   "execution_count": 8,
   "metadata": {},
   "outputs": [],
   "source": [
    "# 저장된 데이터 불러오기\n",
    "#X_train, X_test, y_train, y_test,X_train_f, X_vailed, y_train_f, y_vailed = np.load('./HandGesture/multi_image_data.npy',allow_pickle=True)\n",
    "\n",
    "# 데이터 증식 적용\n",
    "\n",
    "#학습집합의 데이터 증식\n",
    "train_generator = train_datagen.flow(\n",
    "    x=X_train,y=y_train,\n",
    "    batch_size = 32,\n",
    "    shuffle = True\n",
    ")\n",
    "\n",
    "#최종 학습 집합 데이터 증식\n",
    "train_f_generator = train_datagen.flow(\n",
    "    x=X_train_f,y=y_train_f,\n",
    "    batch_size = 32,\n",
    "    shuffle = True\n",
    ")\n",
    "\n",
    "#검증 집합 데이터 증식\n",
    "vailed_generator = train_datagen.flow(\n",
    "    x=X_vailed,y=y_vailed,\n",
    "    batch_size = 32,\n",
    "    shuffle = True\n",
    ")\n",
    "\n",
    "#테스트 집합 데이터 증식\n",
    "test_generator = train_datagen.flow(\n",
    "    x=X_test,y=y_test,\n",
    "    batch_size = 32,\n",
    "    shuffle = True\n",
    ")"
   ]
  },
  {
   "cell_type": "code",
   "execution_count": 9,
   "metadata": {},
   "outputs": [],
   "source": [
    "#카테고리 설정\n",
    "categories = [\"O\", \"V\", \"paper\", \"rock\",\"side\"] \n",
    "nb_classes = len(categories)\n",
    "\n",
    "#일반화\n",
    "X_train = X_train.astype(float) / 255\n",
    "X_test = X_test.astype(float) / 255\n",
    "X_train_f = X_train_f.astype(float) /255\n",
    "X_vailed = X_vailed.astype(float) /255"
   ]
  },
  {
   "cell_type": "markdown",
   "metadata": {},
   "source": [
    "# 4. 예제 코드 신경망"
   ]
  },
  {
   "cell_type": "code",
   "execution_count": 10,
   "metadata": {},
   "outputs": [
    {
     "name": "stdout",
     "output_type": "stream",
     "text": [
      "Epoch 1/10\n"
     ]
    },
    {
     "name": "stderr",
     "output_type": "stream",
     "text": [
      "C:\\Users\\kmc59\\AppData\\Local\\Temp\\ipykernel_8616\\674420408.py:27: UserWarning: `Model.fit_generator` is deprecated and will be removed in a future version. Please use `Model.fit`, which supports generators.\n",
      "  history_1 = model.fit_generator(train_f_generator, epochs=10, validation_data=vailed_generator,\n"
     ]
    },
    {
     "name": "stdout",
     "output_type": "stream",
     "text": [
      "65/65 [==============================] - 24s 346ms/step - loss: 1.6390 - accuracy: 0.3411 - val_loss: 1.2675 - val_accuracy: 0.4323\n",
      "Epoch 2/10\n",
      "65/65 [==============================] - 22s 336ms/step - loss: 1.2240 - accuracy: 0.4908 - val_loss: 0.8401 - val_accuracy: 0.6885\n",
      "Epoch 3/10\n",
      "65/65 [==============================] - 22s 342ms/step - loss: 0.9946 - accuracy: 0.6088 - val_loss: 0.6346 - val_accuracy: 0.7875\n",
      "Epoch 4/10\n",
      "65/65 [==============================] - 22s 341ms/step - loss: 0.8368 - accuracy: 0.6846 - val_loss: 0.4610 - val_accuracy: 0.8341\n",
      "Epoch 5/10\n",
      "65/65 [==============================] - 22s 340ms/step - loss: 0.6858 - accuracy: 0.7541 - val_loss: 0.5156 - val_accuracy: 0.8355\n",
      "Epoch 6/10\n",
      "65/65 [==============================] - 23s 346ms/step - loss: 0.5895 - accuracy: 0.7949 - val_loss: 0.4152 - val_accuracy: 0.8617\n",
      "Epoch 7/10\n",
      "65/65 [==============================] - 23s 347ms/step - loss: 0.5248 - accuracy: 0.8328 - val_loss: 0.3280 - val_accuracy: 0.8937\n",
      "Epoch 8/10\n",
      "65/65 [==============================] - 22s 346ms/step - loss: 0.4523 - accuracy: 0.8523 - val_loss: 0.2938 - val_accuracy: 0.8996\n",
      "Epoch 9/10\n",
      "65/65 [==============================] - 24s 365ms/step - loss: 0.3889 - accuracy: 0.8741 - val_loss: 0.2739 - val_accuracy: 0.9083\n",
      "Epoch 10/10\n",
      "65/65 [==============================] - 23s 351ms/step - loss: 0.3661 - accuracy: 0.8746 - val_loss: 0.2109 - val_accuracy: 0.9316\n"
     ]
    },
    {
     "name": "stderr",
     "output_type": "stream",
     "text": [
      "WARNING:absl:Found untraced functions such as _jit_compiled_convolution_op, _jit_compiled_convolution_op, _jit_compiled_convolution_op, _jit_compiled_convolution_op, _jit_compiled_convolution_op while saving (showing 5 of 5). These functions will not be directly callable after loading.\n"
     ]
    },
    {
     "name": "stdout",
     "output_type": "stream",
     "text": [
      "INFO:tensorflow:Assets written to: ./model/model_1\\assets\n"
     ]
    },
    {
     "name": "stderr",
     "output_type": "stream",
     "text": [
      "INFO:tensorflow:Assets written to: ./model/model_1\\assets\n"
     ]
    }
   ],
   "source": [
    "DefaultConv2D = partial(keras.layers.Conv2D,\n",
    "                        kernel_size=3, activation='relu', kernel_initializer='he_uniform', padding='same')\n",
    "\n",
    "model = keras.models.Sequential([\n",
    "    DefaultConv2D(filters=64, kernel_size=7, input_shape=[64, 64, 3]),\n",
    "    keras.layers.MaxPooling2D(pool_size=2),\n",
    "    DefaultConv2D(filters=128),\n",
    "    DefaultConv2D(filters=128),\n",
    "    keras.layers.MaxPooling2D(pool_size=2),\n",
    "    DefaultConv2D(filters=256),\n",
    "    DefaultConv2D(filters=256),\n",
    "    keras.layers.MaxPooling2D(pool_size=2),\n",
    "    keras.layers.Flatten(), # 2차원을 1차원으로 변환하여 밀집층으로 연결\n",
    "    keras.layers.Dense(units=128, activation='relu'),\n",
    "    keras.layers.Dropout(0.5),\n",
    "    keras.layers.Dense(units=64, activation='relu'),\n",
    "    keras.layers.Dropout(0.5),\n",
    "    keras.layers.Dense(nb_classes, activation='softmax'),\n",
    "])\n",
    "model.compile(loss=\"categorical_crossentropy\", optimizer=\"nadam\", metrics=[\"accuracy\"])\n",
    "\n",
    "model_dir = './model'\n",
    "\n",
    "checkpoint_cb = keras.callbacks.ModelCheckpoint(\"model1.h5\", save_best_only=True)\n",
    "early_stopping_cb = keras.callbacks.EarlyStopping(patience=10, restore_best_weights=True)\n",
    "\n",
    "history_1 = model.fit_generator(train_f_generator, epochs=10, validation_data=vailed_generator,\n",
    "                   callbacks=[checkpoint_cb, early_stopping_cb])\n",
    "save_model(model=model,filepath=model_dir+\"/model_1\")"
   ]
  },
  {
   "cell_type": "markdown",
   "metadata": {},
   "source": [
    "# 5. 합성곱 + 최대풀링 섞은 신경망"
   ]
  },
  {
   "cell_type": "code",
   "execution_count": 11,
   "metadata": {},
   "outputs": [
    {
     "name": "stdout",
     "output_type": "stream",
     "text": [
      "Epoch 1/10\n"
     ]
    },
    {
     "name": "stderr",
     "output_type": "stream",
     "text": [
      "C:\\Users\\kmc59\\AppData\\Local\\Temp\\ipykernel_8616\\2082454162.py:23: UserWarning: `Model.fit_generator` is deprecated and will be removed in a future version. Please use `Model.fit`, which supports generators.\n",
      "  history_2 = model2.fit_generator(train_f_generator, epochs=10, validation_data=vailed_generator,\n"
     ]
    },
    {
     "name": "stdout",
     "output_type": "stream",
     "text": [
      "65/65 [==============================] - 11s 159ms/step - loss: 1.0800 - accuracy: 0.6098 - val_loss: 0.6161 - val_accuracy: 0.7875\n",
      "Epoch 2/10\n",
      "65/65 [==============================] - 10s 158ms/step - loss: 0.5767 - accuracy: 0.7901 - val_loss: 0.4510 - val_accuracy: 0.8443\n",
      "Epoch 3/10\n",
      "65/65 [==============================] - 11s 162ms/step - loss: 0.4261 - accuracy: 0.8508 - val_loss: 0.9099 - val_accuracy: 0.7351\n",
      "Epoch 4/10\n",
      "65/65 [==============================] - 10s 159ms/step - loss: 0.3871 - accuracy: 0.8756 - val_loss: 0.3325 - val_accuracy: 0.8923\n",
      "Epoch 5/10\n",
      "65/65 [==============================] - 10s 156ms/step - loss: 0.2721 - accuracy: 0.9140 - val_loss: 0.2153 - val_accuracy: 0.9316\n",
      "Epoch 6/10\n",
      "65/65 [==============================] - 10s 157ms/step - loss: 0.2499 - accuracy: 0.9179 - val_loss: 0.2723 - val_accuracy: 0.9141\n",
      "Epoch 7/10\n",
      "65/65 [==============================] - 10s 153ms/step - loss: 0.2288 - accuracy: 0.9271 - val_loss: 0.1700 - val_accuracy: 0.9389\n",
      "Epoch 8/10\n",
      "65/65 [==============================] - 10s 160ms/step - loss: 0.2328 - accuracy: 0.9266 - val_loss: 0.2093 - val_accuracy: 0.9403\n",
      "Epoch 9/10\n",
      "65/65 [==============================] - 10s 155ms/step - loss: 0.1986 - accuracy: 0.9407 - val_loss: 0.1939 - val_accuracy: 0.9374\n",
      "Epoch 10/10\n",
      "65/65 [==============================] - 10s 156ms/step - loss: 0.2095 - accuracy: 0.9373 - val_loss: 0.1666 - val_accuracy: 0.9418\n"
     ]
    },
    {
     "name": "stderr",
     "output_type": "stream",
     "text": [
      "WARNING:absl:Found untraced functions such as _jit_compiled_convolution_op, _jit_compiled_convolution_op, _jit_compiled_convolution_op while saving (showing 3 of 3). These functions will not be directly callable after loading.\n"
     ]
    },
    {
     "name": "stdout",
     "output_type": "stream",
     "text": [
      "INFO:tensorflow:Assets written to: ./model/model_2\\assets\n"
     ]
    },
    {
     "name": "stderr",
     "output_type": "stream",
     "text": [
      "INFO:tensorflow:Assets written to: ./model/model_2\\assets\n"
     ]
    }
   ],
   "source": [
    "DefaultConv2D = partial(keras.layers.Conv2D,\n",
    "                        kernel_size=3, activation='relu', kernel_initializer='he_uniform', padding='same')\n",
    "\n",
    "model2 = keras.models.Sequential([\n",
    "    DefaultConv2D(filters=64, kernel_size=7, input_shape=[64, 64, 3]),\n",
    "    keras.layers.MaxPooling2D(pool_size=2),\n",
    "    DefaultConv2D(filters=128),\n",
    "    keras.layers.MaxPooling2D(pool_size=2),\n",
    "    DefaultConv2D(filters=256),\n",
    "    keras.layers.MaxPooling2D(pool_size=2),\n",
    "    keras.layers.Flatten(),\n",
    "    keras.layers.Dense(nb_classes, activation='softmax'),\n",
    "])\n",
    "\n",
    "model2.compile(loss=\"categorical_crossentropy\", optimizer=\"nadam\", metrics=[\"accuracy\"])\n",
    "\n",
    "model_dir = './model'\n",
    "\n",
    "checkpoint_cb = keras.callbacks.ModelCheckpoint(\"model2.h5\", save_best_only=True)\n",
    "\n",
    "early_stopping_cb = keras.callbacks.EarlyStopping(patience=10, restore_best_weights=True)\n",
    "\n",
    "history_2 = model2.fit_generator(train_f_generator, epochs=10, validation_data=vailed_generator,\n",
    "                   callbacks=[checkpoint_cb, early_stopping_cb])\n",
    "save_model(model=model2,filepath=model_dir+\"/model_2\")"
   ]
  },
  {
   "cell_type": "markdown",
   "metadata": {},
   "source": [
    "# 6. VGG 모델 개선"
   ]
  },
  {
   "cell_type": "code",
   "execution_count": 12,
   "metadata": {},
   "outputs": [
    {
     "name": "stdout",
     "output_type": "stream",
     "text": [
      "Epoch 1/10\n"
     ]
    },
    {
     "name": "stderr",
     "output_type": "stream",
     "text": [
      "C:\\Users\\kmc59\\AppData\\Local\\Temp\\ipykernel_8616\\3479977727.py:29: UserWarning: `Model.fit_generator` is deprecated and will be removed in a future version. Please use `Model.fit`, which supports generators.\n",
      "  history_3 = model3.fit_generator(train_f_generator, epochs=10, validation_data=vailed_generator,\n"
     ]
    },
    {
     "name": "stdout",
     "output_type": "stream",
     "text": [
      "65/65 [==============================] - 16s 247ms/step - loss: 0.6573 - acc: 0.7629 - val_loss: 0.2012 - val_acc: 0.9301\n",
      "Epoch 2/10\n",
      "65/65 [==============================] - 16s 240ms/step - loss: 0.3160 - acc: 0.8970 - val_loss: 0.1782 - val_acc: 0.9534\n",
      "Epoch 3/10\n",
      "65/65 [==============================] - 16s 243ms/step - loss: 0.2377 - acc: 0.9150 - val_loss: 0.0826 - val_acc: 0.9709\n",
      "Epoch 4/10\n",
      "65/65 [==============================] - 16s 250ms/step - loss: 0.2194 - acc: 0.9320 - val_loss: 0.0905 - val_acc: 0.9680\n",
      "Epoch 5/10\n",
      "65/65 [==============================] - 16s 246ms/step - loss: 0.1492 - acc: 0.9475 - val_loss: 0.0742 - val_acc: 0.9796\n",
      "Epoch 6/10\n",
      "65/65 [==============================] - 16s 241ms/step - loss: 0.1639 - acc: 0.9485 - val_loss: 0.0486 - val_acc: 0.9767\n",
      "Epoch 7/10\n",
      "65/65 [==============================] - 16s 248ms/step - loss: 0.1125 - acc: 0.9645 - val_loss: 0.0580 - val_acc: 0.9840\n",
      "Epoch 8/10\n",
      "65/65 [==============================] - 16s 246ms/step - loss: 0.1213 - acc: 0.9665 - val_loss: 0.0745 - val_acc: 0.9767\n",
      "Epoch 9/10\n",
      "65/65 [==============================] - 16s 239ms/step - loss: 0.0913 - acc: 0.9742 - val_loss: 0.0573 - val_acc: 0.9811\n",
      "Epoch 10/10\n",
      "65/65 [==============================] - 16s 244ms/step - loss: 0.0957 - acc: 0.9694 - val_loss: 0.0536 - val_acc: 0.9854\n"
     ]
    },
    {
     "name": "stderr",
     "output_type": "stream",
     "text": [
      "WARNING:absl:Found untraced functions such as _jit_compiled_convolution_op, _jit_compiled_convolution_op, _jit_compiled_convolution_op, _jit_compiled_convolution_op, _jit_compiled_convolution_op while saving (showing 5 of 13). These functions will not be directly callable after loading.\n"
     ]
    },
    {
     "name": "stdout",
     "output_type": "stream",
     "text": [
      "INFO:tensorflow:Assets written to: ./model/model_3\\assets\n"
     ]
    },
    {
     "name": "stderr",
     "output_type": "stream",
     "text": [
      "INFO:tensorflow:Assets written to: ./model/model_3\\assets\n"
     ]
    }
   ],
   "source": [
    "def model_maker():\n",
    "    base_model = VGG16(include_top=False, input_shape=(64, 64, 3)) #베이스 모델로는 VGG16 모델을\n",
    "\n",
    "    for layer in base_model.layers[:-2]:\n",
    "        layer.trainable = False # Top 층을 제외한 나머지 층에서 2개의 층을 새롭게 학습 \n",
    " \n",
    "    input1 = Input(shape=(64, 64, 3))\n",
    "    custom_model = base_model(input1)\n",
    "    custom_model = GlobalAveragePooling2D()(custom_model)\n",
    "    custom_model = Dense(64, activation='relu')(custom_model)\n",
    "    custom_model = Dropout(0.5)(custom_model)\n",
    "    predictions = Dense(nb_classes, activation='softmax')(custom_model)\n",
    "    return Model(inputs=input1, outputs=predictions)\n",
    "model3 = model_maker()\n",
    "\n",
    "model3.compile(loss='categorical_crossentropy',\n",
    "              optimizer=tf.keras.optimizers.Adam(0.001),\n",
    "              metrics=['acc'])\n",
    "\n",
    "model_dir = './model'\n",
    "\n",
    "if not os.path.exists(model_dir):\n",
    "    os.mkdir(model_dir)\n",
    "\n",
    "model_path = 'model3.h5'\n",
    "checkpoint = ModelCheckpoint(filepath=model_path , monitor='val_loss', verbose=1, save_best_only=True)\n",
    "early_stopping = EarlyStopping(monitor='val_loss', patience=6)\n",
    "\n",
    "history_3 = model3.fit_generator(train_f_generator, epochs=10, validation_data=vailed_generator,\n",
    "                   callbacks=[checkpoint_cb, early_stopping_cb])\n",
    "\n",
    "save_model(model=model3,filepath=model_dir+\"/model_3\")\n"
   ]
  },
  {
   "cell_type": "markdown",
   "metadata": {},
   "source": [
    "# 7. 최종 모델 학습"
   ]
  },
  {
   "cell_type": "code",
   "execution_count": 13,
   "metadata": {},
   "outputs": [
    {
     "name": "stdout",
     "output_type": "stream",
     "text": [
      "Epoch 1/100\n"
     ]
    },
    {
     "name": "stderr",
     "output_type": "stream",
     "text": [
      "C:\\Users\\kmc59\\AppData\\Local\\Temp\\ipykernel_8616\\98138945.py:5: UserWarning: `Model.fit_generator` is deprecated and will be removed in a future version. Please use `Model.fit`, which supports generators.\n",
      "  history_4 = model4.fit_generator(train_generator,\n"
     ]
    },
    {
     "name": "stdout",
     "output_type": "stream",
     "text": [
      "86/86 [==============================] - 21s 244ms/step - loss: 0.0915 - acc: 0.9698 - val_loss: 0.0699 - val_acc: 0.9770\n",
      "Epoch 2/100\n",
      "86/86 [==============================] - 21s 244ms/step - loss: 0.1007 - acc: 0.9676 - val_loss: 0.0326 - val_acc: 0.9891\n",
      "Epoch 3/100\n",
      "86/86 [==============================] - 21s 244ms/step - loss: 0.0849 - acc: 0.9716 - val_loss: 0.0604 - val_acc: 0.9803\n",
      "Epoch 4/100\n",
      "86/86 [==============================] - 21s 244ms/step - loss: 0.0912 - acc: 0.9709 - val_loss: 0.0540 - val_acc: 0.9749\n",
      "Epoch 5/100\n",
      "86/86 [==============================] - 21s 241ms/step - loss: 0.0702 - acc: 0.9752 - val_loss: 0.0401 - val_acc: 0.9836\n",
      "Epoch 6/100\n",
      "86/86 [==============================] - 21s 245ms/step - loss: 0.0692 - acc: 0.9785 - val_loss: 0.0319 - val_acc: 0.9880\n",
      "Epoch 7/100\n",
      "86/86 [==============================] - 21s 249ms/step - loss: 0.0611 - acc: 0.9811 - val_loss: 0.0275 - val_acc: 0.9880\n",
      "Epoch 8/100\n",
      "86/86 [==============================] - 21s 250ms/step - loss: 0.0511 - acc: 0.9832 - val_loss: 0.0316 - val_acc: 0.9869\n",
      "Epoch 9/100\n",
      "86/86 [==============================] - 21s 247ms/step - loss: 0.0635 - acc: 0.9803 - val_loss: 0.0851 - val_acc: 0.9628\n",
      "Epoch 10/100\n",
      "86/86 [==============================] - 21s 247ms/step - loss: 0.0719 - acc: 0.9760 - val_loss: 0.0408 - val_acc: 0.9880\n",
      "Epoch 11/100\n",
      "86/86 [==============================] - 21s 242ms/step - loss: 0.0493 - acc: 0.9800 - val_loss: 0.0385 - val_acc: 0.9913\n",
      "Epoch 12/100\n",
      "86/86 [==============================] - 21s 245ms/step - loss: 0.0540 - acc: 0.9836 - val_loss: 0.0402 - val_acc: 0.9869\n",
      "Epoch 13/100\n",
      "86/86 [==============================] - 21s 244ms/step - loss: 0.0511 - acc: 0.9854 - val_loss: 0.0292 - val_acc: 0.9923\n",
      "Epoch 14/100\n",
      "86/86 [==============================] - 21s 239ms/step - loss: 0.0558 - acc: 0.9829 - val_loss: 0.0357 - val_acc: 0.9847\n",
      "Epoch 15/100\n",
      "86/86 [==============================] - 21s 239ms/step - loss: 0.0647 - acc: 0.9814 - val_loss: 0.0342 - val_acc: 0.9880\n",
      "Epoch 16/100\n",
      "86/86 [==============================] - 21s 239ms/step - loss: 0.0487 - acc: 0.9847 - val_loss: 0.0247 - val_acc: 0.9902\n",
      "Epoch 17/100\n",
      "86/86 [==============================] - 21s 244ms/step - loss: 0.0505 - acc: 0.9825 - val_loss: 0.0282 - val_acc: 0.9913\n",
      "Epoch 18/100\n",
      "86/86 [==============================] - 21s 241ms/step - loss: 0.0482 - acc: 0.9847 - val_loss: 0.0318 - val_acc: 0.9913\n",
      "Epoch 19/100\n",
      "86/86 [==============================] - 21s 241ms/step - loss: 0.0398 - acc: 0.9858 - val_loss: 0.0644 - val_acc: 0.9803\n",
      "Epoch 20/100\n",
      "86/86 [==============================] - 20s 238ms/step - loss: 0.0532 - acc: 0.9825 - val_loss: 0.0250 - val_acc: 0.9902\n",
      "Epoch 21/100\n",
      "86/86 [==============================] - 20s 236ms/step - loss: 0.0596 - acc: 0.9825 - val_loss: 0.0376 - val_acc: 0.9880\n",
      "Epoch 22/100\n",
      "86/86 [==============================] - 21s 247ms/step - loss: 0.0458 - acc: 0.9840 - val_loss: 0.0218 - val_acc: 0.9891\n",
      "Epoch 23/100\n",
      "86/86 [==============================] - 22s 254ms/step - loss: 0.0570 - acc: 0.9818 - val_loss: 0.0356 - val_acc: 0.9869\n",
      "Epoch 24/100\n",
      "86/86 [==============================] - 23s 267ms/step - loss: 0.0448 - acc: 0.9854 - val_loss: 0.0240 - val_acc: 0.9891\n",
      "Epoch 25/100\n",
      "86/86 [==============================] - 22s 254ms/step - loss: 0.0326 - acc: 0.9883 - val_loss: 0.0486 - val_acc: 0.9825\n",
      "Epoch 26/100\n",
      "86/86 [==============================] - 22s 261ms/step - loss: 0.0444 - acc: 0.9858 - val_loss: 0.0251 - val_acc: 0.9934\n",
      "Epoch 27/100\n",
      "86/86 [==============================] - 21s 245ms/step - loss: 0.0376 - acc: 0.9880 - val_loss: 0.0559 - val_acc: 0.9825\n",
      "Epoch 28/100\n",
      "86/86 [==============================] - 21s 239ms/step - loss: 0.0485 - acc: 0.9843 - val_loss: 0.0263 - val_acc: 0.9880\n",
      "Epoch 29/100\n",
      "86/86 [==============================] - 21s 248ms/step - loss: 0.0280 - acc: 0.9880 - val_loss: 0.0309 - val_acc: 0.9891\n",
      "Epoch 30/100\n",
      "86/86 [==============================] - 21s 247ms/step - loss: 0.0381 - acc: 0.9869 - val_loss: 0.0127 - val_acc: 0.9956\n",
      "Epoch 31/100\n",
      "86/86 [==============================] - 22s 251ms/step - loss: 0.0318 - acc: 0.9887 - val_loss: 0.0231 - val_acc: 0.9923\n",
      "Epoch 32/100\n",
      "86/86 [==============================] - 21s 247ms/step - loss: 0.0321 - acc: 0.9898 - val_loss: 0.0263 - val_acc: 0.9880\n",
      "Epoch 33/100\n",
      "86/86 [==============================] - 21s 244ms/step - loss: 0.0411 - acc: 0.9854 - val_loss: 0.0144 - val_acc: 0.9956\n",
      "Epoch 34/100\n",
      "86/86 [==============================] - 21s 243ms/step - loss: 0.0307 - acc: 0.9883 - val_loss: 0.0151 - val_acc: 0.9934\n",
      "Epoch 35/100\n",
      "86/86 [==============================] - 21s 240ms/step - loss: 0.0285 - acc: 0.9923 - val_loss: 0.0216 - val_acc: 0.9923\n",
      "Epoch 36/100\n",
      "86/86 [==============================] - 21s 242ms/step - loss: 0.0292 - acc: 0.9898 - val_loss: 0.0466 - val_acc: 0.9869\n",
      "Epoch 37/100\n",
      "86/86 [==============================] - 21s 245ms/step - loss: 0.0454 - acc: 0.9847 - val_loss: 0.0226 - val_acc: 0.9902\n",
      "Epoch 38/100\n",
      "86/86 [==============================] - 21s 245ms/step - loss: 0.0285 - acc: 0.9887 - val_loss: 0.0158 - val_acc: 0.9934\n",
      "Epoch 39/100\n",
      "86/86 [==============================] - 21s 242ms/step - loss: 0.0277 - acc: 0.9898 - val_loss: 0.0263 - val_acc: 0.9902\n",
      "Epoch 40/100\n",
      "86/86 [==============================] - 20s 236ms/step - loss: 0.0476 - acc: 0.9854 - val_loss: 0.0271 - val_acc: 0.9913\n"
     ]
    },
    {
     "name": "stderr",
     "output_type": "stream",
     "text": [
      "WARNING:absl:Found untraced functions such as _jit_compiled_convolution_op, _jit_compiled_convolution_op, _jit_compiled_convolution_op, _jit_compiled_convolution_op, _jit_compiled_convolution_op while saving (showing 5 of 13). These functions will not be directly callable after loading.\n"
     ]
    },
    {
     "name": "stdout",
     "output_type": "stream",
     "text": [
      "INFO:tensorflow:Assets written to: ./model/model_Last\\assets\n"
     ]
    },
    {
     "name": "stderr",
     "output_type": "stream",
     "text": [
      "INFO:tensorflow:Assets written to: ./model/model_Last\\assets\n"
     ]
    }
   ],
   "source": [
    "#최종모델 불러오기\n",
    "#model4 = load_model('./model/model_Last')\n",
    "\n",
    "model4 = model3\n",
    "history_4 = model4.fit_generator(train_generator,\n",
    "                        epochs=100,\n",
    "                        validation_data=test_generator,\n",
    "                        callbacks=[checkpoint_cb, early_stopping_cb])\n",
    "save_model(model=model4,filepath=model_dir+\"/model_Last\")\n"
   ]
  },
  {
   "cell_type": "markdown",
   "metadata": {},
   "source": [
    "## 7.1최종 모델 구조"
   ]
  },
  {
   "cell_type": "code",
   "execution_count": 14,
   "metadata": {},
   "outputs": [
    {
     "name": "stdout",
     "output_type": "stream",
     "text": [
      "Model: \"model\"\n",
      "_________________________________________________________________\n",
      " Layer (type)                Output Shape              Param #   \n",
      "=================================================================\n",
      " input_2 (InputLayer)        [(None, 64, 64, 3)]       0         \n",
      "                                                                 \n",
      " vgg16 (Functional)          (None, 2, 2, 512)         14714688  \n",
      "                                                                 \n",
      " global_average_pooling2d (G  (None, 512)              0         \n",
      " lobalAveragePooling2D)                                          \n",
      "                                                                 \n",
      " dense_4 (Dense)             (None, 64)                32832     \n",
      "                                                                 \n",
      " dropout_2 (Dropout)         (None, 64)                0         \n",
      "                                                                 \n",
      " dense_5 (Dense)             (None, 5)                 325       \n",
      "                                                                 \n",
      "=================================================================\n",
      "Total params: 14,747,845\n",
      "Trainable params: 2,392,965\n",
      "Non-trainable params: 12,354,880\n",
      "_________________________________________________________________\n"
     ]
    }
   ],
   "source": [
    "model4.summary()"
   ]
  },
  {
   "cell_type": "markdown",
   "metadata": {},
   "source": [
    "## 7.2 최종 모델 성능"
   ]
  },
  {
   "cell_type": "code",
   "execution_count": 15,
   "metadata": {},
   "outputs": [
    {
     "name": "stdout",
     "output_type": "stream",
     "text": [
      "29/29 [==============================] - 5s 158ms/step - loss: 0.0137 - acc: 0.9923\n",
      "정확도 : 0.9923\n"
     ]
    }
   ],
   "source": [
    "print(\"정확도 : %.4f\" % (model3.evaluate(X_test, y_test)[1]))"
   ]
  },
  {
   "cell_type": "markdown",
   "metadata": {},
   "source": [
    "## 7.3 최종 모델 그래프"
   ]
  },
  {
   "cell_type": "code",
   "execution_count": 16,
   "metadata": {},
   "outputs": [
    {
     "data": {
      "image/png": "[encoded data removed]",
      "text/plain": [
       "<Figure size 640x480 with 1 Axes>"
      ]
     },
     "metadata": {},
     "output_type": "display_data"
    }
   ],
   "source": [
    "y_vloss = history_3.history['val_loss']\n",
    "y_loss = history_3.history['loss']\n",
    "\n",
    "x_len = np.arange(len(y_loss))\n",
    "\n",
    "plt.plot(x_len, y_vloss, marker='.', c='red', label='val_set_loss')\n",
    "plt.plot(x_len, y_loss, marker='.', c='blue', label='train_set_loss')\n",
    "plt.legend()\n",
    "plt.xlabel('epochs')\n",
    "plt.ylabel('loss')\n",
    "plt.grid()\n",
    "plt.show()"
   ]
  },
  {
   "cell_type": "markdown",
   "metadata": {},
   "source": [
    "# 8. 실행"
   ]
  },
  {
   "cell_type": "code",
   "execution_count": null,
   "metadata": {},
   "outputs": [],
   "source": [
    "from tkinter import * #GUI\n",
    "import numpy as np \n",
    "import cv2 #웹캠\n",
    "import screen_brightness_control as sbc #화면 밝기 조절\n",
    "import pyautogui #볼륨 업 다운\n",
    "import keyboard\n",
    "from PIL import Image\n",
    "import os, glob, numpy as np\n",
    "from keras.models import load_model\n",
    "\n",
    "#  예제 1) tkinter 파이썬 GUI 레이블(label)\n",
    "# tkinter를 사용하여 텍스트를 나타내보자\n",
    "# 1. 루트화면 (root window) 생성\n",
    "\n",
    "def chgkey(x):\n",
    "    if x == 1: #o\n",
    "        pyautogui.press('volumeup')\n",
    "    elif x == 2: #v\n",
    "        pyautogui.press('volumedown')\n",
    "    elif x == 3: #r\n",
    "        pyautogui.press('volumemute')   \n",
    "\n",
    "def cam():\n",
    "    cv2.imwrite(\"self camera test.jpg\", frame) # 사진 저장\n",
    "\n",
    "\n",
    "brightness = sbc.get_brightness()\n",
    "b = brightness[0]\n",
    "\n",
    "capture = cv2.VideoCapture(0)\n",
    "capture.set(cv2.CAP_PROP_FRAME_WIDTH, 640)\n",
    "capture.set(cv2.CAP_PROP_FRAME_HEIGHT, 480)\n",
    "y=1\n",
    "\n",
    "while(True):\n",
    "    ret, frame = capture.read() \n",
    "    gray = cv2.cvtColor(frame,cv2.COLOR_BGR2YCrCb)\n",
    "    cv2.imshow('frame', frame)\n",
    "    if cv2.waitKey(1) & 0xFF == ord('q'):\n",
    "        cam()\n",
    "        \n",
    "        caltech_dir = \"./\"\n",
    "        image_w = 64\n",
    "        image_h = 64\n",
    "\n",
    "        pixels = image_h * image_w * 3\n",
    "\n",
    "        X = []\n",
    "        filenames = []\n",
    "        files = glob.glob(caltech_dir+\"self camera test.jpg\")\n",
    "\n",
    "        for i, f in enumerate(files):\n",
    "            img = cv2.imread(f)#이미지 열고\n",
    "            #손 색상 변경\n",
    "            ycrb = cv2.cvtColor(img,cv2.COLOR_BGR2YCrCb)\n",
    "            img = cv2.inRange(ycrb,np.array([0,133,77]),np.array([255,173,127])) \n",
    "            img = Image.fromarray(img)\n",
    "            img = img.convert(\"RGB\")\n",
    "            img = img.resize((image_w, image_h))\n",
    "            #img.show()\n",
    "            data = np.asarray(img)\n",
    "            filenames.append(f)\n",
    "            X.append(data)\n",
    "\n",
    "        X = np.array(X)\n",
    "        model = load_model('./model/model_Last')\n",
    "\n",
    "        prediction = model.predict(X)\n",
    "        np.set_printoptions(formatter={'float': lambda x: \"{0:0.3f}\".format(x)})\n",
    "        cnt = 0\n",
    "        #이 비교는 그냥 파일들이 있으면 해당 파일과 비교. 카테고리와 함께 비교해서 진행하는 것은 _4 파일.\n",
    "        for i in prediction:\n",
    "            pre_ans = i.argmax()  # 예측 레이블\n",
    "            print(i)\n",
    "            print(pre_ans)\n",
    "            pre_ans_str = ''\n",
    "            if pre_ans == 0: pre_ans_str = \"o\"\n",
    "            elif pre_ans == 1: pre_ans_str = \"V\"\n",
    "            elif pre_ans == 2: pre_ans_str = \"paper\"\n",
    "            elif pre_ans == 3: pre_ans_str = \"rock\"\n",
    "            elif pre_ans == 4: pre_ans_str = \"side\"\n",
    "            \n",
    "            if i[0] >= 0.8 : \n",
    "                print(\"o\")\n",
    "                y=4\n",
    "            if i[1] >= 0.8: \n",
    "                print(\"v\")\n",
    "                y=5\n",
    "            if i[2] >= 0.8:\n",
    "                print(\"paper\") \n",
    "                y=1\n",
    "            if i[3] >= 0.8:\n",
    "                print(\"rock\") \n",
    "                y=2\n",
    "            if i[4] >= 0.8:\n",
    "                print(\"side\") \n",
    "                y=3\n",
    "            cnt += 1\n",
    "            \n",
    "\n",
    "    # print(i.argmax()) #얘가 레이블 [1. 0. 0.] 이런식으로 되어 있는 것을 숫자로 바꿔주는 것.\n",
    "    # 즉 얘랑, 나중에 카테고리 데이터 불러와서 카테고리랑 비교를 해서 같으면 맞는거고, 아니면 틀린거로 취급하면 된다.\n",
    "    # 이걸 한 것은 _4.py에.\n",
    "    \n",
    "            #모델로 어떤 기능인지 파악 1, 2, 3, 4 ,5 값을 리턴\n",
    "        if y == 1:\n",
    "            chgkey(1)\n",
    "        elif y == 2:\n",
    "            chgkey(2)\n",
    "        elif y == 3:\n",
    "            chgkey(3)\n",
    "        elif y == 4:\n",
    "            brightness[0] -= 10\n",
    "            if brightness[0] < 0 :\n",
    "                brightness[0] = 0\n",
    "            sbc.set_brightness(brightness[0])\n",
    "        elif y == 5:\n",
    "            brightness[0] += 10\n",
    "            if brightness[0] > 100:\n",
    "                brightness[0] = 100\n",
    "            sbc.set_brightness(brightness[0])\n",
    "        else : \n",
    "            print(\"인식되지 않음\")\n",
    "        \n",
    "        \n",
    "capture.release()\n",
    "cv2.destroyAllWindows()   \n",
    "\n",
    "\n"
   ]
  },
  {
   "cell_type": "markdown",
   "metadata": {},
   "source": [
    "# 번외 사진으로 테스트 작업"
   ]
  },
  {
   "cell_type": "code",
   "execution_count": 17,
   "metadata": {},
   "outputs": [
    {
     "data": {
      "text/plain": [
       "'caltech_dir = \"./HandGesture/test\"\\nimage_w = 64\\nimage_h = 64\\n\\npixels = image_h * image_w * 3\\n\\nX = []\\nfilenames = []\\nfiles = glob.glob(caltech_dir+\"/*.*\")\\n\\nfor i, f in enumerate(files):\\n    img = cv2.imread(f)#이미지 열고\\n    #손 색상 변경\\n    ycrb = cv2.cvtColor(img,cv2.COLOR_BGR2YCrCb)\\n    img = cv2.inRange(ycrb,np.array([0,133,77]),np.array([255,173,127])) \\n    img = Image.fromarray(img)\\n    img = img.convert(\"RGB\")\\n    img = img.resize((image_w, image_h))\\n    #img.show()\\n    data = np.asarray(img)\\n    filenames.append(f)\\n    X.append(data)\\n\\nX = np.array(X)\\nmodel = load_model(\\'./model_Last\\')\\n\\nprediction = model.predict(X)\\nnp.set_printoptions(formatter={\\'float\\': lambda x: \"{0:0.3f}\".format(x)})\\ncnt = 0\\n\\n#이 비교는 그냥 파일들이 있으면 해당 파일과 비교. 카테고리와 함께 비교해서 진행하는 것은 _4 파일.\\nfor i in prediction:\\n    pre_ans = i.argmax()  # 예측 레이블\\n    print(i)\\n    print(pre_ans)\\n    pre_ans_str = \\'\\'\\n    if pre_ans == 0: pre_ans_str = \"o\"\\n    elif pre_ans == 1: pre_ans_str = \"V\"\\n    elif pre_ans == 2: pre_ans_str = \"paper\"\\n    elif pre_ans == 3: pre_ans_str = \"rock\"\\n    else: pre_ans_str = \"side\"\\n   \\n    if i[0] >= 0.8 : print(\"해당 \"+filenames[cnt].split(\"\\\\\")[1]+\"이미지는 \"+pre_ans_str+\"로 추정됩니다.\")\\n    if i[1] >= 0.8: print(\"해당 \"+filenames[cnt].split(\"\\\\\")[1]+\"이미지는 \"+pre_ans_str+\"으로 추정됩니다.\")\\n    if i[2] >= 0.8: print(\"해당 \"+filenames[cnt].split(\"\\\\\")[1]+\"이미지는 \"+pre_ans_str+\"로 추정됩니다.\")\\n    if i[3] >= 0.8: print(\"해당 \"+filenames[cnt].split(\"\\\\\")[1]+\"이미지는 \"+pre_ans_str+\"로 추정됩니다.\")\\n    if i[4] >= 0.8: print(\"해당 \"+filenames[cnt].split(\"\\\\\")[1]+\"이미지는 \"+pre_ans_str+\"로 추정됩니다.\")\\n    cnt += 1\\n    # print(i.argmax()) #얘가 레이블 [1. 0. 0.] 이런식으로 되어 있는 것을 숫자로 바꿔주는 것.\\n    # 즉 얘랑, 나중에 카테고리 데이터 불러와서 카테고리랑 비교를 해서 같으면 맞는거고, 아니면 틀린거로 취급하면 된다.\\n    # 이걸 한 것은 _4.py에.\\n'"
      ]
     },
     "execution_count": 17,
     "metadata": {},
     "output_type": "execute_result"
    }
   ],
   "source": [
    "\"\"\"caltech_dir = \"./HandGesture/test\"\n",
    "image_w = 64\n",
    "image_h = 64\n",
    "\n",
    "pixels = image_h * image_w * 3\n",
    "\n",
    "X = []\n",
    "filenames = []\n",
    "files = glob.glob(caltech_dir+\"/*.*\")\n",
    "\n",
    "for i, f in enumerate(files):\n",
    "    img = cv2.imread(f)#이미지 열고\n",
    "    #손 색상 변경\n",
    "    ycrb = cv2.cvtColor(img,cv2.COLOR_BGR2YCrCb)\n",
    "    img = cv2.inRange(ycrb,np.array([0,133,77]),np.array([255,173,127])) \n",
    "    img = Image.fromarray(img)\n",
    "    img = img.convert(\"RGB\")\n",
    "    img = img.resize((image_w, image_h))\n",
    "    #img.show()\n",
    "    data = np.asarray(img)\n",
    "    filenames.append(f)\n",
    "    X.append(data)\n",
    "\n",
    "X = np.array(X)\n",
    "model = load_model('./model_Last')\n",
    "\n",
    "prediction = model.predict(X)\n",
    "np.set_printoptions(formatter={'float': lambda x: \"{0:0.3f}\".format(x)})\n",
    "cnt = 0\n",
    "\n",
    "#이 비교는 그냥 파일들이 있으면 해당 파일과 비교. 카테고리와 함께 비교해서 진행하는 것은 _4 파일.\n",
    "for i in prediction:\n",
    "    pre_ans = i.argmax()  # 예측 레이블\n",
    "    print(i)\n",
    "    print(pre_ans)\n",
    "    pre_ans_str = ''\n",
    "    if pre_ans == 0: pre_ans_str = \"o\"\n",
    "    elif pre_ans == 1: pre_ans_str = \"V\"\n",
    "    elif pre_ans == 2: pre_ans_str = \"paper\"\n",
    "    elif pre_ans == 3: pre_ans_str = \"rock\"\n",
    "    else: pre_ans_str = \"side\"\n",
    "   \n",
    "    if i[0] >= 0.8 : print(\"해당 \"+filenames[cnt].split(\"\\\\\")[1]+\"이미지는 \"+pre_ans_str+\"로 추정됩니다.\")\n",
    "    if i[1] >= 0.8: print(\"해당 \"+filenames[cnt].split(\"\\\\\")[1]+\"이미지는 \"+pre_ans_str+\"으로 추정됩니다.\")\n",
    "    if i[2] >= 0.8: print(\"해당 \"+filenames[cnt].split(\"\\\\\")[1]+\"이미지는 \"+pre_ans_str+\"로 추정됩니다.\")\n",
    "    if i[3] >= 0.8: print(\"해당 \"+filenames[cnt].split(\"\\\\\")[1]+\"이미지는 \"+pre_ans_str+\"로 추정됩니다.\")\n",
    "    if i[4] >= 0.8: print(\"해당 \"+filenames[cnt].split(\"\\\\\")[1]+\"이미지는 \"+pre_ans_str+\"로 추정됩니다.\")\n",
    "    cnt += 1\n",
    "    # print(i.argmax()) #얘가 레이블 [1. 0. 0.] 이런식으로 되어 있는 것을 숫자로 바꿔주는 것.\n",
    "    # 즉 얘랑, 나중에 카테고리 데이터 불러와서 카테고리랑 비교를 해서 같으면 맞는거고, 아니면 틀린거로 취급하면 된다.\n",
    "    # 이걸 한 것은 _4.py에.\n",
    "\"\"\""
   ]
  }
 ],
 "metadata": {
  "kernelspec": {
   "display_name": "Python 3.10.7 64-bit",
   "language": "python",
   "name": "python3"
  },
  "language_info": {
   "codemirror_mode": {
    "name": "ipython",
    "version": 3
   },
   "file_extension": ".py",
   "mimetype": "text/x-python",
   "name": "python",
   "nbconvert_exporter": "python",
   "pygments_lexer": "ipython3",
   "version": "3.10.7"
  },
  "vscode": {
   "interpreter": {
    "hash": "4b961d8f9206faaef7d3163d24c626b65937dc11e9ce5e74e2ec94a8fdbcc7de"
   }
  }
 },
 "nbformat": 4,
 "nbformat_minor": 2
}
